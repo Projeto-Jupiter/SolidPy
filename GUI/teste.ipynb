{
 "cells": [
  {
   "cell_type": "code",
   "execution_count": 4,
   "metadata": {},
   "outputs": [
    {
     "name": "stdout",
     "output_type": "stream",
     "text": [
      "0.0399\n"
     ]
    }
   ],
   "source": [
    "import ast\n",
    "\n",
    "a = '39.9e-3'\n",
    "\n",
    "x = ast.literal_eval(a)\n",
    "\n",
    "print(x)"
   ]
  }
 ],
 "metadata": {
  "kernelspec": {
   "display_name": "Python 3",
   "language": "python",
   "name": "python3"
  },
  "language_info": {
   "codemirror_mode": {
    "name": "ipython",
    "version": 3
   },
   "file_extension": ".py",
   "mimetype": "text/x-python",
   "name": "python",
   "nbconvert_exporter": "python",
   "pygments_lexer": "ipython3",
   "version": "3.10.10"
  },
  "orig_nbformat": 4,
  "vscode": {
   "interpreter": {
    "hash": "86f6f47382558654bb8fb6ce14e33bee758161b0314f66f9b0c04113e924c6f5"
   }
  }
 },
 "nbformat": 4,
 "nbformat_minor": 2
}
