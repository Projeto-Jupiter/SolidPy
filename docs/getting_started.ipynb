{
 "cells": [
  {
   "cell_type": "markdown",
   "metadata": {},
   "source": [
    "# Getting Started"
   ]
  },
  {
   "cell_type": "markdown",
   "metadata": {},
   "source": [
    "Here we go through a simplified motor simulation to get you started. Let's start by importing the solidpy module."
   ]
  },
  {
   "cell_type": "code",
   "execution_count": 1,
   "metadata": {},
   "outputs": [],
   "source": [
    "import sys\n",
    "sys.path.append('../')\n",
    "import numpy as np\n",
    "from solidpy import Bates, Star, CustomGeometry\n",
    "from solidpy import Motor, Propellant, Environment, Rail\n",
    "from solidpy import BurnSimulation"
   ]
  },
  {
   "cell_type": "markdown",
   "metadata": {},
   "source": [
    "If you are using Jupyter Notebooks, it is recommended to run the following line to make matplotlib plots which will be shown later interactive and higher quality."
   ]
  },
  {
   "cell_type": "code",
   "execution_count": 2,
   "metadata": {},
   "outputs": [],
   "source": [
    "%matplotlib inline"
   ]
  },
  {
   "cell_type": "markdown",
   "metadata": {},
   "source": [
    "## Setting Up a Simulation"
   ]
  },
  {
   "cell_type": "markdown",
   "metadata": {},
   "source": [
    "### Creating your rocket propellant"
   ]
  },
  {
   "cell_type": "markdown",
   "metadata": {},
   "source": [
    "Here we need to define some of the properties of our chosen propellant.\n",
    "Among them is the specific heat ratio ($\\gamma$), propellant density ($\\rho$), molecular mass of the products of combustion ($M$) and adiabatic flame temperature ($T$). These can be easily obtained for any given composition from a thermochemical equilibrium solver such as [PROPEP](http://rocketworkbench.sourceforge.net/equil.phtml).\n",
    "\n",
    "We'll also need some parameters regarding how the propellant burn rate behaves. Solid propellant burn rates are commonly modelled solely as a function of the local static chamber pressure, following semi-empirical relation known as Saint-Robert's law or Vielle's Law:\n",
    "\n",
    "$r = a{P_0}^n$\n",
    "\n",
    "Where $P_0$ represents the chamber stagnation pressure. The $a$ and $n$ are respectively called the *linear* and *exponential* ballistic coefficients and should be obtained empirically for your given propellant formulation and manufacturing process. Note that a value of *n < 1* is required for a stable burn.\n",
    "\n",
    "Here we'll create an instance of the KNSB (65% KNO3, 35% sorbitol) propellant, widely used by Projeto Jupiter's propulsion team. Burn rate coefficients have been sourced from [Richard Nakka's Experimental Rocketry Site](https://www.nakka-rocketry.net)."
   ]
  },
  {
   "cell_type": "code",
   "execution_count": 3,
   "metadata": {},
   "outputs": [],
   "source": [
    "KNSB = Propellant(\n",
    "    specific_heat_ratio=1.1361,\n",
    "    density=1700,\n",
    "    products_molecular_mass=39.9e-3,\n",
    "    combustion_temperature=1600,\n",
    "    burn_rate_a=5.8,\n",
    "    burn_rate_n=0.22\n",
    ")"
   ]
  },
  {
   "cell_type": "markdown",
   "metadata": {},
   "source": [
    "Alternatively, SolidPy allows you to input a customized *Burnrate (mm/s) x Pressure (MPa)* curve by passing on a CSV file that will be interpolated. This allows for more flexibility regarding propellant behaviour, and for many formulations there is raised data from experiments available online."
   ]
  },
  {
   "cell_type": "code",
   "execution_count": 4,
   "metadata": {},
   "outputs": [],
   "source": [
    "KNSB = Propellant(\n",
    "    specific_heat_ratio=1.1361,\n",
    "    density=1700,\n",
    "    products_molecular_mass=39.9e-3,\n",
    "    combustion_temperature=1600,\n",
    "    interpolation_list=\"../data/burnrate/KNSB.csv\"\n",
    ")"
   ]
  },
  {
   "cell_type": "markdown",
   "metadata": {},
   "source": [
    "That's everything required to fully characterize the propellant that will be used in your motor!\n",
    "You can now access some of the instance's methods, such as calculating the theoretical value for characteristic velocity ($c*$), in m/s:"
   ]
  },
  {
   "cell_type": "code",
   "execution_count": 5,
   "metadata": {},
   "outputs": [
    {
     "data": {
      "text/plain": [
       "908.1465077764462"
      ]
     },
     "execution_count": 5,
     "metadata": {},
     "output_type": "execute_result"
    }
   ],
   "source": [
    "KNSB.evaluate_cstar()"
   ]
  },
  {
   "cell_type": "markdown",
   "metadata": {},
   "source": [
    "### Setting up your grain geometry"
   ]
  },
  {
   "cell_type": "markdown",
   "metadata": {},
   "source": [
    "With the composition of our propellant well-defined, we'll now construct the physical propellant grains. This will involve mostly geometrical parameters such as outer diameter, height and port shape. \n",
    "\n",
    "SolidPy was rencently updated to support a wider variety of grain ports. Currently, there are standards for both *BATES* and *STAR* geometries and the user may generate a shape from any well-behaved polar equation. The regression of complex port geometries are evaluated through the employment of [fast-marching methods](https://en.wikipedia.org/wiki/Fast_marching_method).\n",
    "\n",
    "Here, we'll define the grain of the *Leviatã*, a class L motor designed by Projeto Jupiter and static-fired at Apr 03, 2022 at Pirassununga USP campus:"
   ]
  },
  {
   "cell_type": "code",
   "execution_count": 6,
   "metadata": {},
   "outputs": [],
   "source": [
    "Bates_Grain = Bates(\n",
    "        outer_radius=71.92 / 2000,\n",
    "        inner_radius=31.92 / 2000,\n",
    "    )"
   ]
  },
  {
   "cell_type": "markdown",
   "metadata": {},
   "source": [
    "You can see that both radius have been passed with the *D/2000*, where D represents the diameter value in milimiters. Since SolidPy standardized on receiving all inputs in [International Units](https://en.wikipedia.org/wiki/International_System_of_Units), this practice allows for easier transfer between the code and other software such as CAD.\n",
    "\n",
    "Note that also that the *initial_height* has not been passed. However, if we check the respective attribute in the instance we created:"
   ]
  },
  {
   "cell_type": "code",
   "execution_count": 7,
   "metadata": {},
   "outputs": [
    {
     "name": "stdout",
     "output_type": "stream",
     "text": [
      "Grain height: 123.84 mm\n"
     ]
    }
   ],
   "source": [
    "height = Bates_Grain.height\n",
    "print(\"Grain height: {} mm\".format(height*1000))"
   ]
  },
  {
   "cell_type": "markdown",
   "metadata": {},
   "source": [
    "The Grain classes defines the grain height as an optional parameter. If *None* is passed, SolidPy employs a method which calculates the optimal height in order to make the $K_n(t) = \\frac{A_b(t)}{A_t}$ curve symmetric. This allows for a neutral burn profile, which is usually desired during motor design. Don't let that fool you though, you're free to create a grain as tall as you want!\n",
    "\n",
    "By now, we can combine our two previously defined objects (Propellant and Grain), and obtain a very useful piece of information: the mass of each of our grains!"
   ]
  },
  {
   "cell_type": "code",
   "execution_count": 8,
   "metadata": {},
   "outputs": [
    {
     "name": "stdout",
     "output_type": "stream",
     "text": [
      "Grain mass: 686.79 g\n"
     ]
    }
   ],
   "source": [
    "density = KNSB.density\n",
    "volume = Bates_Grain.volume\n",
    "mass = density*volume\n",
    "print(\"Grain mass: {:.2f} g\".format(mass*1000))"
   ]
  },
  {
   "cell_type": "markdown",
   "metadata": {},
   "source": [
    "### Creating a Motor\n",
    "\n",
    "To create our solid motor, we'll be using the *Motor* class, and the required arguments must given. These are mostly related to **combustion chamber** and **nozzle** geometric properties, as well as the **number of grains** and the **Grain** object itself.\n",
    "\n",
    "Again, we'll be creating the previously designed and built *Leviatã* motor, and placing 4 of its grains inside it:"
   ]
  },
  {
   "cell_type": "code",
   "execution_count": 9,
   "metadata": {},
   "outputs": [],
   "source": [
    "Leviata = Motor(\n",
    "        Bates_Grain,\n",
    "        grain_number=4,\n",
    "        chamber_inner_radius=77.92 / 2000,\n",
    "        nozzle_throat_radius=17.5 / 2000,\n",
    "        nozzle_exit_radius=44.44 / 2000,\n",
    "        nozzle_angle=15 * np.pi / 180,\n",
    "        chamber_length=600 / 1000,\n",
    "    )"
   ]
  },
  {
   "cell_type": "markdown",
   "metadata": {},
   "source": [
    "Just like when creating our grain, the length parameter is optional, and if not passed will be calculated by adding each grain height."
   ]
  },
  {
   "cell_type": "markdown",
   "metadata": {},
   "source": [
    "### Firing it up!"
   ]
  },
  {
   "cell_type": "markdown",
   "metadata": {},
   "source": [
    "Here we get to the icing on the cake part of the simulation. All up until now, we've been mostly setting up the required inputs to operate our thermodynamic model. From now on, we can start plugging in numbers, solving (differential) equations, and of course, obtain some beautiful values and plots!\n",
    "\n",
    "This will be done through the BurnSimulation class, which is mostly self-contained. It requires only two inputs: your defined Motor object and Propellant composition:"
   ]
  },
  {
   "cell_type": "code",
   "execution_count": 10,
   "metadata": {},
   "outputs": [
    {
     "ename": "OSError",
     "evalue": "/data/burnrate/KNSB.csv not found.",
     "output_type": "error",
     "traceback": [
      "\u001b[0;31m---------------------------------------------------------------------------\u001b[0m",
      "\u001b[0;31mOSError\u001b[0m                                   Traceback (most recent call last)",
      "Cell \u001b[0;32mIn [10], line 3\u001b[0m\n\u001b[1;32m      1\u001b[0m \u001b[39mfrom\u001b[39;00m \u001b[39msolidpy\u001b[39;00m\u001b[39m.\u001b[39;00m\u001b[39mBurn\u001b[39;00m \u001b[39mimport\u001b[39;00m BurnExport\n\u001b[0;32m----> 3\u001b[0m Simulation \u001b[39m=\u001b[39m BurnSimulation(Leviata, KNSB)\n\u001b[1;32m      4\u001b[0m SimulationData \u001b[39m=\u001b[39m BurnExport(Simulation)\n\u001b[1;32m      5\u001b[0m SimulationData\u001b[39m.\u001b[39mall_info()\n",
      "File \u001b[0;32m~/github/Jupiter/SolidPy/solidpy/Burn.py:270\u001b[0m, in \u001b[0;36mBurnSimulation.__init__\u001b[0;34m(self, motor, propellant, environment, max_step_size, tail_off_evaluation)\u001b[0m\n\u001b[1;32m    267\u001b[0m \u001b[39mself\u001b[39m\u001b[39m.\u001b[39mexit_pressure \u001b[39m=\u001b[39m \u001b[39mNone\u001b[39;00m\n\u001b[1;32m    268\u001b[0m \u001b[39mself\u001b[39m\u001b[39m.\u001b[39mexit_velocity \u001b[39m=\u001b[39m \u001b[39mNone\u001b[39;00m\n\u001b[0;32m--> 270\u001b[0m \u001b[39mself\u001b[39m\u001b[39m.\u001b[39mburn_solution \u001b[39m=\u001b[39m \u001b[39mself\u001b[39;49m\u001b[39m.\u001b[39;49mevaluate_grain_burn_solution()\n",
      "File \u001b[0;32m~/github/Jupiter/SolidPy/solidpy/Burn.py:424\u001b[0m, in \u001b[0;36mBurnSimulation.evaluate_grain_burn_solution\u001b[0;34m(self)\u001b[0m\n\u001b[1;32m    415\u001b[0m \u001b[39mdef\u001b[39;00m \u001b[39mevaluate_grain_burn_solution\u001b[39m(\u001b[39mself\u001b[39m):\n\u001b[1;32m    416\u001b[0m     \u001b[39m\"\"\"Iteration through the solve_ivp solution in order to compute\u001b[39;00m\n\u001b[1;32m    417\u001b[0m \u001b[39m    notable burn characteristics besides the state variables, such as thrust,\u001b[39;00m\n\u001b[1;32m    418\u001b[0m \u001b[39m    exit pressure and exit velocity.\u001b[39;00m\n\u001b[0;32m   (...)\u001b[0m\n\u001b[1;32m    421\u001b[0m \u001b[39m        tuple: thrust, exit pressure and exit velocity lists\u001b[39;00m\n\u001b[1;32m    422\u001b[0m \u001b[39m    \"\"\"\u001b[39;00m\n\u001b[0;32m--> 424\u001b[0m     \u001b[39mself\u001b[39;49m\u001b[39m.\u001b[39;49msolve_burn()\n\u001b[1;32m    425\u001b[0m     \u001b[39mself\u001b[39m\u001b[39m.\u001b[39mtime \u001b[39m=\u001b[39m \u001b[39mself\u001b[39m\u001b[39m.\u001b[39mraw_solution\u001b[39m.\u001b[39mt\n\u001b[1;32m    426\u001b[0m     \u001b[39mself\u001b[39m\u001b[39m.\u001b[39mchamber_pressure \u001b[39m=\u001b[39m \u001b[39mself\u001b[39m\u001b[39m.\u001b[39mraw_solution\u001b[39m.\u001b[39my[\u001b[39m0\u001b[39m]\n",
      "File \u001b[0;32m~/github/Jupiter/SolidPy/solidpy/Burn.py:352\u001b[0m, in \u001b[0;36mBurnSimulation.solve_burn\u001b[0;34m(self)\u001b[0m\n\u001b[1;32m    345\u001b[0m regressed_length \u001b[39m=\u001b[39m \u001b[39m0\u001b[39m\n\u001b[1;32m    346\u001b[0m state_variables \u001b[39m=\u001b[39m [\n\u001b[1;32m    347\u001b[0m     \u001b[39mself\u001b[39m\u001b[39m.\u001b[39menvironment_pressure,\n\u001b[1;32m    348\u001b[0m     \u001b[39mself\u001b[39m\u001b[39m.\u001b[39mmotor\u001b[39m.\u001b[39mfree_volume,\n\u001b[1;32m    349\u001b[0m     regressed_length,\n\u001b[1;32m    350\u001b[0m ]\n\u001b[0;32m--> 352\u001b[0m \u001b[39mself\u001b[39m\u001b[39m.\u001b[39mraw_solution \u001b[39m=\u001b[39m solve_ivp(\n\u001b[1;32m    353\u001b[0m     \u001b[39mself\u001b[39;49m\u001b[39m.\u001b[39;49mvector_field,\n\u001b[1;32m    354\u001b[0m     (\u001b[39m0.0\u001b[39;49m, \u001b[39m100.0\u001b[39;49m),\n\u001b[1;32m    355\u001b[0m     state_variables,\n\u001b[1;32m    356\u001b[0m     method\u001b[39m=\u001b[39;49m\u001b[39m\"\u001b[39;49m\u001b[39mDOP853\u001b[39;49m\u001b[39m\"\u001b[39;49m,\n\u001b[1;32m    357\u001b[0m     events\u001b[39m=\u001b[39;49m\u001b[39mself\u001b[39;49m\u001b[39m.\u001b[39;49mburn_termination,\n\u001b[1;32m    358\u001b[0m     max_step\u001b[39m=\u001b[39;49m\u001b[39mself\u001b[39;49m\u001b[39m.\u001b[39;49mmax_step_size,\n\u001b[1;32m    359\u001b[0m     \u001b[39m# atol=1e-8,\u001b[39;49;00m\n\u001b[1;32m    360\u001b[0m     \u001b[39m# rtol=1e-10,\u001b[39;49;00m\n\u001b[1;32m    361\u001b[0m )\n\u001b[1;32m    363\u001b[0m \u001b[39mreturn\u001b[39;00m \u001b[39mNone\u001b[39;00m\n",
      "File \u001b[0;32m~/github/Jupiter/SolidPy/venv/lib/python3.9/site-packages/scipy/integrate/_ivp/ivp.py:546\u001b[0m, in \u001b[0;36msolve_ivp\u001b[0;34m(fun, t_span, y0, method, t_eval, dense_output, events, vectorized, args, **options)\u001b[0m\n\u001b[1;32m    543\u001b[0m \u001b[39mif\u001b[39;00m method \u001b[39min\u001b[39;00m METHODS:\n\u001b[1;32m    544\u001b[0m     method \u001b[39m=\u001b[39m METHODS[method]\n\u001b[0;32m--> 546\u001b[0m solver \u001b[39m=\u001b[39m method(fun, t0, y0, tf, vectorized\u001b[39m=\u001b[39;49mvectorized, \u001b[39m*\u001b[39;49m\u001b[39m*\u001b[39;49moptions)\n\u001b[1;32m    548\u001b[0m \u001b[39mif\u001b[39;00m t_eval \u001b[39mis\u001b[39;00m \u001b[39mNone\u001b[39;00m:\n\u001b[1;32m    549\u001b[0m     ts \u001b[39m=\u001b[39m [t0]\n",
      "File \u001b[0;32m~/github/Jupiter/SolidPy/venv/lib/python3.9/site-packages/scipy/integrate/_ivp/rk.py:491\u001b[0m, in \u001b[0;36mDOP853.__init__\u001b[0;34m(self, fun, t0, y0, t_bound, max_step, rtol, atol, vectorized, first_step, **extraneous)\u001b[0m\n\u001b[1;32m    488\u001b[0m \u001b[39mdef\u001b[39;00m \u001b[39m__init__\u001b[39m(\u001b[39mself\u001b[39m, fun, t0, y0, t_bound, max_step\u001b[39m=\u001b[39mnp\u001b[39m.\u001b[39minf,\n\u001b[1;32m    489\u001b[0m              rtol\u001b[39m=\u001b[39m\u001b[39m1e-3\u001b[39m, atol\u001b[39m=\u001b[39m\u001b[39m1e-6\u001b[39m, vectorized\u001b[39m=\u001b[39m\u001b[39mFalse\u001b[39;00m,\n\u001b[1;32m    490\u001b[0m              first_step\u001b[39m=\u001b[39m\u001b[39mNone\u001b[39;00m, \u001b[39m*\u001b[39m\u001b[39m*\u001b[39mextraneous):\n\u001b[0;32m--> 491\u001b[0m     \u001b[39msuper\u001b[39;49m()\u001b[39m.\u001b[39;49m\u001b[39m__init__\u001b[39;49m(fun, t0, y0, t_bound, max_step, rtol, atol,\n\u001b[1;32m    492\u001b[0m                      vectorized, first_step, \u001b[39m*\u001b[39;49m\u001b[39m*\u001b[39;49mextraneous)\n\u001b[1;32m    493\u001b[0m     \u001b[39mself\u001b[39m\u001b[39m.\u001b[39mK_extended \u001b[39m=\u001b[39m np\u001b[39m.\u001b[39mempty((dop853_coefficients\u001b[39m.\u001b[39mN_STAGES_EXTENDED,\n\u001b[1;32m    494\u001b[0m                                 \u001b[39mself\u001b[39m\u001b[39m.\u001b[39mn), dtype\u001b[39m=\u001b[39m\u001b[39mself\u001b[39m\u001b[39m.\u001b[39my\u001b[39m.\u001b[39mdtype)\n\u001b[1;32m    495\u001b[0m     \u001b[39mself\u001b[39m\u001b[39m.\u001b[39mK \u001b[39m=\u001b[39m \u001b[39mself\u001b[39m\u001b[39m.\u001b[39mK_extended[:\u001b[39mself\u001b[39m\u001b[39m.\u001b[39mn_stages \u001b[39m+\u001b[39m \u001b[39m1\u001b[39m]\n",
      "File \u001b[0;32m~/github/Jupiter/SolidPy/venv/lib/python3.9/site-packages/scipy/integrate/_ivp/rk.py:94\u001b[0m, in \u001b[0;36mRungeKutta.__init__\u001b[0;34m(self, fun, t0, y0, t_bound, max_step, rtol, atol, vectorized, first_step, **extraneous)\u001b[0m\n\u001b[1;32m     92\u001b[0m \u001b[39mself\u001b[39m\u001b[39m.\u001b[39mmax_step \u001b[39m=\u001b[39m validate_max_step(max_step)\n\u001b[1;32m     93\u001b[0m \u001b[39mself\u001b[39m\u001b[39m.\u001b[39mrtol, \u001b[39mself\u001b[39m\u001b[39m.\u001b[39matol \u001b[39m=\u001b[39m validate_tol(rtol, atol, \u001b[39mself\u001b[39m\u001b[39m.\u001b[39mn)\n\u001b[0;32m---> 94\u001b[0m \u001b[39mself\u001b[39m\u001b[39m.\u001b[39mf \u001b[39m=\u001b[39m \u001b[39mself\u001b[39;49m\u001b[39m.\u001b[39;49mfun(\u001b[39mself\u001b[39;49m\u001b[39m.\u001b[39;49mt, \u001b[39mself\u001b[39;49m\u001b[39m.\u001b[39;49my)\n\u001b[1;32m     95\u001b[0m \u001b[39mif\u001b[39;00m first_step \u001b[39mis\u001b[39;00m \u001b[39mNone\u001b[39;00m:\n\u001b[1;32m     96\u001b[0m     \u001b[39mself\u001b[39m\u001b[39m.\u001b[39mh_abs \u001b[39m=\u001b[39m select_initial_step(\n\u001b[1;32m     97\u001b[0m         \u001b[39mself\u001b[39m\u001b[39m.\u001b[39mfun, \u001b[39mself\u001b[39m\u001b[39m.\u001b[39mt, \u001b[39mself\u001b[39m\u001b[39m.\u001b[39my, \u001b[39mself\u001b[39m\u001b[39m.\u001b[39mf, \u001b[39mself\u001b[39m\u001b[39m.\u001b[39mdirection,\n\u001b[1;32m     98\u001b[0m         \u001b[39mself\u001b[39m\u001b[39m.\u001b[39merror_estimator_order, \u001b[39mself\u001b[39m\u001b[39m.\u001b[39mrtol, \u001b[39mself\u001b[39m\u001b[39m.\u001b[39matol)\n",
      "File \u001b[0;32m~/github/Jupiter/SolidPy/venv/lib/python3.9/site-packages/scipy/integrate/_ivp/base.py:138\u001b[0m, in \u001b[0;36mOdeSolver.__init__.<locals>.fun\u001b[0;34m(t, y)\u001b[0m\n\u001b[1;32m    136\u001b[0m \u001b[39mdef\u001b[39;00m \u001b[39mfun\u001b[39m(t, y):\n\u001b[1;32m    137\u001b[0m     \u001b[39mself\u001b[39m\u001b[39m.\u001b[39mnfev \u001b[39m+\u001b[39m\u001b[39m=\u001b[39m \u001b[39m1\u001b[39m\n\u001b[0;32m--> 138\u001b[0m     \u001b[39mreturn\u001b[39;00m \u001b[39mself\u001b[39;49m\u001b[39m.\u001b[39;49mfun_single(t, y)\n",
      "File \u001b[0;32m~/github/Jupiter/SolidPy/venv/lib/python3.9/site-packages/scipy/integrate/_ivp/base.py:20\u001b[0m, in \u001b[0;36mcheck_arguments.<locals>.fun_wrapped\u001b[0;34m(t, y)\u001b[0m\n\u001b[1;32m     19\u001b[0m \u001b[39mdef\u001b[39;00m \u001b[39mfun_wrapped\u001b[39m(t, y):\n\u001b[0;32m---> 20\u001b[0m     \u001b[39mreturn\u001b[39;00m np\u001b[39m.\u001b[39masarray(fun(t, y), dtype\u001b[39m=\u001b[39mdtype)\n",
      "File \u001b[0;32m~/github/Jupiter/SolidPy/solidpy/Burn.py:295\u001b[0m, in \u001b[0;36mBurnSimulation.vector_field\u001b[0;34m(self, time, state_variables)\u001b[0m\n\u001b[1;32m    293\u001b[0m burn_area \u001b[39m=\u001b[39m \u001b[39mself\u001b[39m\u001b[39m.\u001b[39mmotor\u001b[39m.\u001b[39mtotal_burn_area\n\u001b[1;32m    294\u001b[0m nozzle_mass_flow \u001b[39m=\u001b[39m \u001b[39mself\u001b[39m\u001b[39m.\u001b[39mevaluate_nozzle_mass_flow(chamber_pressure)\n\u001b[0;32m--> 295\u001b[0m burn_rate \u001b[39m=\u001b[39m \u001b[39mself\u001b[39;49m\u001b[39m.\u001b[39;49mpropellant\u001b[39m.\u001b[39;49mevaluate_burn_rate(chamber_pressure)\n\u001b[1;32m    297\u001b[0m vector_state \u001b[39m=\u001b[39m [\n\u001b[1;32m    298\u001b[0m     (\n\u001b[1;32m    299\u001b[0m         burn_area \u001b[39m*\u001b[39m burn_rate \u001b[39m*\u001b[39m (rho_g \u001b[39m-\u001b[39m chamber_pressure \u001b[39m/\u001b[39m (R \u001b[39m*\u001b[39m T_0))\n\u001b[0;32m   (...)\u001b[0m\n\u001b[1;32m    306\u001b[0m     burn_rate,\n\u001b[1;32m    307\u001b[0m ]\n\u001b[1;32m    309\u001b[0m \u001b[39mreturn\u001b[39;00m vector_state\n",
      "File \u001b[0;32m~/github/Jupiter/SolidPy/solidpy/Propellant.py:33\u001b[0m, in \u001b[0;36mPropellant.evaluate_burn_rate\u001b[0;34m(self, chamber_pressure)\u001b[0m\n\u001b[1;32m     31\u001b[0m \u001b[39mdef\u001b[39;00m \u001b[39mevaluate_burn_rate\u001b[39m(\u001b[39mself\u001b[39m, chamber_pressure):\n\u001b[1;32m     32\u001b[0m     \u001b[39mif\u001b[39;00m \u001b[39m\"\u001b[39m\u001b[39minterpolation_list\u001b[39m\u001b[39m\"\u001b[39m \u001b[39min\u001b[39;00m \u001b[39mself\u001b[39m\u001b[39m.\u001b[39m\u001b[39m__dict__\u001b[39m:\n\u001b[0;32m---> 33\u001b[0m         pressure_list, burn_rate_list \u001b[39m=\u001b[39m np\u001b[39m.\u001b[39;49mloadtxt(\n\u001b[1;32m     34\u001b[0m             \u001b[39mself\u001b[39;49m\u001b[39m.\u001b[39;49minterpolation_list, delimiter\u001b[39m=\u001b[39;49m\u001b[39m\"\u001b[39;49m\u001b[39m,\u001b[39;49m\u001b[39m\"\u001b[39;49m, unpack\u001b[39m=\u001b[39;49m\u001b[39mTrue\u001b[39;49;00m, skiprows\u001b[39m=\u001b[39;49m\u001b[39m1\u001b[39;49m\n\u001b[1;32m     35\u001b[0m         )\n\u001b[1;32m     36\u001b[0m         r_function \u001b[39m=\u001b[39m interpolate\u001b[39m.\u001b[39minterp1d(\n\u001b[1;32m     37\u001b[0m             pressure_list, burn_rate_list, kind\u001b[39m=\u001b[39m\u001b[39m\"\u001b[39m\u001b[39mcubic\u001b[39m\u001b[39m\"\u001b[39m, fill_value\u001b[39m=\u001b[39m\u001b[39m\"\u001b[39m\u001b[39mextrapolate\u001b[39m\u001b[39m\"\u001b[39m\n\u001b[1;32m     38\u001b[0m         )\n\u001b[1;32m     39\u001b[0m         r \u001b[39m=\u001b[39m r_function(chamber_pressure \u001b[39m*\u001b[39m \u001b[39m1e-6\u001b[39m)  \u001b[39m# r in mm/s; p in MPa\u001b[39;00m\n",
      "File \u001b[0;32m~/github/Jupiter/SolidPy/venv/lib/python3.9/site-packages/numpy/lib/npyio.py:961\u001b[0m, in \u001b[0;36mloadtxt\u001b[0;34m(fname, dtype, comments, delimiter, converters, skiprows, usecols, unpack, ndmin, encoding, max_rows)\u001b[0m\n\u001b[1;32m    959\u001b[0m     fname \u001b[39m=\u001b[39m os_fspath(fname)\n\u001b[1;32m    960\u001b[0m \u001b[39mif\u001b[39;00m _is_string_like(fname):\n\u001b[0;32m--> 961\u001b[0m     fh \u001b[39m=\u001b[39m np\u001b[39m.\u001b[39;49mlib\u001b[39m.\u001b[39;49m_datasource\u001b[39m.\u001b[39;49mopen(fname, \u001b[39m'\u001b[39;49m\u001b[39mrt\u001b[39;49m\u001b[39m'\u001b[39;49m, encoding\u001b[39m=\u001b[39;49mencoding)\n\u001b[1;32m    962\u001b[0m     fencoding \u001b[39m=\u001b[39m \u001b[39mgetattr\u001b[39m(fh, \u001b[39m'\u001b[39m\u001b[39mencoding\u001b[39m\u001b[39m'\u001b[39m, \u001b[39m'\u001b[39m\u001b[39mlatin1\u001b[39m\u001b[39m'\u001b[39m)\n\u001b[1;32m    963\u001b[0m     fh \u001b[39m=\u001b[39m \u001b[39miter\u001b[39m(fh)\n",
      "File \u001b[0;32m~/github/Jupiter/SolidPy/venv/lib/python3.9/site-packages/numpy/lib/_datasource.py:195\u001b[0m, in \u001b[0;36mopen\u001b[0;34m(path, mode, destpath, encoding, newline)\u001b[0m\n\u001b[1;32m    158\u001b[0m \u001b[39m\"\"\"\u001b[39;00m\n\u001b[1;32m    159\u001b[0m \u001b[39mOpen `path` with `mode` and return the file object.\u001b[39;00m\n\u001b[1;32m    160\u001b[0m \n\u001b[0;32m   (...)\u001b[0m\n\u001b[1;32m    191\u001b[0m \n\u001b[1;32m    192\u001b[0m \u001b[39m\"\"\"\u001b[39;00m\n\u001b[1;32m    194\u001b[0m ds \u001b[39m=\u001b[39m DataSource(destpath)\n\u001b[0;32m--> 195\u001b[0m \u001b[39mreturn\u001b[39;00m ds\u001b[39m.\u001b[39;49mopen(path, mode, encoding\u001b[39m=\u001b[39;49mencoding, newline\u001b[39m=\u001b[39;49mnewline)\n",
      "File \u001b[0;32m~/github/Jupiter/SolidPy/venv/lib/python3.9/site-packages/numpy/lib/_datasource.py:535\u001b[0m, in \u001b[0;36mDataSource.open\u001b[0;34m(self, path, mode, encoding, newline)\u001b[0m\n\u001b[1;32m    532\u001b[0m     \u001b[39mreturn\u001b[39;00m _file_openers[ext](found, mode\u001b[39m=\u001b[39mmode,\n\u001b[1;32m    533\u001b[0m                               encoding\u001b[39m=\u001b[39mencoding, newline\u001b[39m=\u001b[39mnewline)\n\u001b[1;32m    534\u001b[0m \u001b[39melse\u001b[39;00m:\n\u001b[0;32m--> 535\u001b[0m     \u001b[39mraise\u001b[39;00m \u001b[39mIOError\u001b[39;00m(\u001b[39m\"\u001b[39m\u001b[39m%s\u001b[39;00m\u001b[39m not found.\u001b[39m\u001b[39m\"\u001b[39m \u001b[39m%\u001b[39m path)\n",
      "\u001b[0;31mOSError\u001b[0m: /data/burnrate/KNSB.csv not found."
     ]
    }
   ],
   "source": [
    "from solidpy.Burn import BurnExport\n",
    "\n",
    "Simulation = BurnSimulation(Leviata, KNSB)\n",
    "SimulationData = BurnExport(Simulation)\n",
    "SimulationData.all_info()\n",
    "SimulationData.plotting()"
   ]
  }
 ],
 "metadata": {
  "hide_input": false,
  "kernelspec": {
   "display_name": "Python 3.9.2 ('venv': venv)",
   "language": "python",
   "name": "python3"
  },
  "language_info": {
   "codemirror_mode": {
    "name": "ipython",
    "version": 3
   },
   "file_extension": ".py",
   "mimetype": "text/x-python",
   "name": "python",
   "nbconvert_exporter": "python",
   "pygments_lexer": "ipython3",
   "version": "3.9.2"
  },
  "vscode": {
   "interpreter": {
    "hash": "2e82430369263a018d3debb008e5f7ca39e5fd7b2b40b809456317e4592cb42f"
   }
  }
 },
 "nbformat": 4,
 "nbformat_minor": 2
}
